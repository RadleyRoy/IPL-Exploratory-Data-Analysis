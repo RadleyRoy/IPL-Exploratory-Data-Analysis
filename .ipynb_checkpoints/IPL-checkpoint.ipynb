{
 "cells": [
  {
   "cell_type": "code",
   "execution_count": 1,
   "metadata": {},
   "outputs": [],
   "source": [
    "import pandas as pd\n",
    "import numpy as np\n",
    "from sklearn.preprocessing import LabelEncoder\n",
    "import matplotlib.pyplot as plt   \n",
    "import seaborn as sns\n",
    "from sklearn.model_selection import train_test_split "
   ]
  },
  {
   "cell_type": "code",
   "execution_count": 2,
   "metadata": {},
   "outputs": [],
   "source": [
    "matches = pd.read_csv(\"C:/Users/Radley Roy/Downloads/Indian Premier League/matches.csv\")\n",
    "deliveries = pd.read_csv(\"C:/Users/Radley Roy/Downloads/Indian Premier League/deliveries.csv\")"
   ]
  },
  {
   "cell_type": "code",
   "execution_count": 3,
   "metadata": {},
   "outputs": [
    {
     "data": {
      "text/plain": [
       "id                   0\n",
       "season               0\n",
       "city                 0\n",
       "date                 0\n",
       "team1                0\n",
       "team2                0\n",
       "toss_winner          0\n",
       "toss_decision        0\n",
       "result               0\n",
       "dl_applied           0\n",
       "winner               4\n",
       "win_by_runs          0\n",
       "win_by_wickets       0\n",
       "player_of_match      4\n",
       "venue                0\n",
       "umpire1              2\n",
       "umpire2              2\n",
       "umpire3            637\n",
       "dtype: int64"
      ]
     },
     "execution_count": 3,
     "metadata": {},
     "output_type": "execute_result"
    }
   ],
   "source": [
    "matches.isnull().sum()"
   ]
  },
  {
   "cell_type": "code",
   "execution_count": 4,
   "metadata": {},
   "outputs": [],
   "source": [
    "matches=matches[matches[\"winner\"].notna()]"
   ]
  },
  {
   "cell_type": "code",
   "execution_count": 5,
   "metadata": {},
   "outputs": [],
   "source": [
    "team1_encoder= LabelEncoder()\n",
    "matches[\"team1\"]=team1_encoder.fit_transform(matches[\"team1\"])\n",
    "team2_encoder= LabelEncoder()\n",
    "matches[\"team2\"]=team2_encoder.fit_transform(matches[\"team2\"])\n",
    "winner_encoder= LabelEncoder()\n",
    "matches[\"winner\"]=winner_encoder.fit_transform(matches[\"winner\"].astype(str))\n",
    "toss_encoder= LabelEncoder()\n",
    "matches[\"toss_winner\"]=toss_encoder.fit_transform(matches[\"toss_winner\"])\n",
    "venue_encoder= LabelEncoder()\n",
    "matches[\"venue\"]=venue_encoder.fit_transform(matches[\"venue\"])"
   ]
  },
  {
   "cell_type": "code",
   "execution_count": 6,
   "metadata": {},
   "outputs": [],
   "source": [
    "matches.loc[matches[\"winner\"]==matches[\"team1\"],\"team1_win\"]=1\n",
    "matches.loc[matches[\"winner\"]!=matches[\"team1\"],\"team1_win\"]=0\n",
    "\n",
    "#outcome variable team1_toss_win as a value of team1 winning the toss\n",
    "matches.loc[matches[\"toss_winner\"]==matches[\"team1\"],\"team1_toss_win\"]=1\n",
    "matches.loc[matches[\"toss_winner\"]!=matches[\"team1\"],\"team1_toss_win\"]=0"
   ]
  },
  {
   "cell_type": "code",
   "execution_count": 7,
   "metadata": {},
   "outputs": [
    {
     "data": {
      "text/html": [
       "<div>\n",
       "<style scoped>\n",
       "    .dataframe tbody tr th:only-of-type {\n",
       "        vertical-align: middle;\n",
       "    }\n",
       "\n",
       "    .dataframe tbody tr th {\n",
       "        vertical-align: top;\n",
       "    }\n",
       "\n",
       "    .dataframe thead th {\n",
       "        text-align: right;\n",
       "    }\n",
       "</style>\n",
       "<table border=\"1\" class=\"dataframe\">\n",
       "  <thead>\n",
       "    <tr style=\"text-align: right;\">\n",
       "      <th></th>\n",
       "      <th>team1</th>\n",
       "      <th>team2</th>\n",
       "      <th>team1_toss_win</th>\n",
       "      <th>venue</th>\n",
       "      <th>team1_win</th>\n",
       "    </tr>\n",
       "  </thead>\n",
       "  <tbody>\n",
       "    <tr>\n",
       "      <th>0</th>\n",
       "      <td>13</td>\n",
       "      <td>12</td>\n",
       "      <td>0.0</td>\n",
       "      <td>28</td>\n",
       "      <td>1.0</td>\n",
       "    </tr>\n",
       "    <tr>\n",
       "      <th>1</th>\n",
       "      <td>8</td>\n",
       "      <td>11</td>\n",
       "      <td>0.0</td>\n",
       "      <td>21</td>\n",
       "      <td>0.0</td>\n",
       "    </tr>\n",
       "    <tr>\n",
       "      <th>2</th>\n",
       "      <td>4</td>\n",
       "      <td>7</td>\n",
       "      <td>0.0</td>\n",
       "      <td>31</td>\n",
       "      <td>0.0</td>\n",
       "    </tr>\n",
       "    <tr>\n",
       "      <th>3</th>\n",
       "      <td>11</td>\n",
       "      <td>5</td>\n",
       "      <td>0.0</td>\n",
       "      <td>13</td>\n",
       "      <td>0.0</td>\n",
       "    </tr>\n",
       "    <tr>\n",
       "      <th>4</th>\n",
       "      <td>12</td>\n",
       "      <td>3</td>\n",
       "      <td>1.0</td>\n",
       "      <td>17</td>\n",
       "      <td>1.0</td>\n",
       "    </tr>\n",
       "    <tr>\n",
       "      <th>...</th>\n",
       "      <td>...</td>\n",
       "      <td>...</td>\n",
       "      <td>...</td>\n",
       "      <td>...</td>\n",
       "      <td>...</td>\n",
       "    </tr>\n",
       "    <tr>\n",
       "      <th>751</th>\n",
       "      <td>7</td>\n",
       "      <td>8</td>\n",
       "      <td>0.0</td>\n",
       "      <td>40</td>\n",
       "      <td>0.0</td>\n",
       "    </tr>\n",
       "    <tr>\n",
       "      <th>752</th>\n",
       "      <td>0</td>\n",
       "      <td>8</td>\n",
       "      <td>1.0</td>\n",
       "      <td>18</td>\n",
       "      <td>0.0</td>\n",
       "    </tr>\n",
       "    <tr>\n",
       "      <th>753</th>\n",
       "      <td>13</td>\n",
       "      <td>2</td>\n",
       "      <td>0.0</td>\n",
       "      <td>0</td>\n",
       "      <td>0.0</td>\n",
       "    </tr>\n",
       "    <tr>\n",
       "      <th>754</th>\n",
       "      <td>2</td>\n",
       "      <td>0</td>\n",
       "      <td>0.0</td>\n",
       "      <td>0</td>\n",
       "      <td>0.0</td>\n",
       "    </tr>\n",
       "    <tr>\n",
       "      <th>755</th>\n",
       "      <td>8</td>\n",
       "      <td>0</td>\n",
       "      <td>1.0</td>\n",
       "      <td>29</td>\n",
       "      <td>1.0</td>\n",
       "    </tr>\n",
       "  </tbody>\n",
       "</table>\n",
       "<p>752 rows × 5 columns</p>\n",
       "</div>"
      ],
      "text/plain": [
       "     team1  team2  team1_toss_win  venue  team1_win\n",
       "0       13     12             0.0     28        1.0\n",
       "1        8     11             0.0     21        0.0\n",
       "2        4      7             0.0     31        0.0\n",
       "3       11      5             0.0     13        0.0\n",
       "4       12      3             1.0     17        1.0\n",
       "..     ...    ...             ...    ...        ...\n",
       "751      7      8             0.0     40        0.0\n",
       "752      0      8             1.0     18        0.0\n",
       "753     13      2             0.0      0        0.0\n",
       "754      2      0             0.0      0        0.0\n",
       "755      8      0             1.0     29        1.0\n",
       "\n",
       "[752 rows x 5 columns]"
      ]
     },
     "execution_count": 7,
     "metadata": {},
     "output_type": "execute_result"
    }
   ],
   "source": [
    "prediction_df=matches[[\"team1\",\"team2\",\"team1_toss_win\",\"team1_win\",\"venue\"]]\n",
    "\n",
    "#finding the higly correlated features\n",
    "correlated_features = set()\n",
    "correlation_matrix = prediction_df.drop('team1_win', axis=1).corr()\n",
    "\n",
    "for i in range(len(correlation_matrix.columns)):\n",
    "    for j in range(i):\n",
    "        if abs(correlation_matrix.iloc[i, j]) > 0.9:\n",
    "            column = correlation_matrix.columns[i]\n",
    "            correlated_features.add(column)\n",
    "\n",
    "prediction_df.drop(columns=correlated_features)\n",
    "cols = list(prediction_df.columns)\n",
    "a, b = cols.index('venue'), cols.index('team1_win')\n",
    "cols[b], cols[a] = cols[a], cols[b]\n",
    "prediction_df = prediction_df[cols]\n",
    "prediction_df"
   ]
  },
  {
   "cell_type": "code",
   "execution_count": 8,
   "metadata": {},
   "outputs": [
    {
     "data": {
      "image/png": "[encoded data removed]",
      "text/plain": [
       "<Figure size 720x360 with 2 Axes>"
      ]
     },
     "metadata": {
      "needs_background": "light"
     },
     "output_type": "display_data"
    }
   ],
   "source": [
    "plt.figure(figsize=(10,5))\n",
    "correlation_matrix = prediction_df.corr()\n",
    "sns.heatmap(data=correlation_matrix, annot=True)\n",
    "plt.show()"
   ]
  },
  {
   "cell_type": "code",
   "execution_count": 9,
   "metadata": {},
   "outputs": [],
   "source": [
    "X = prediction_df.iloc[:, :-1].values    \n",
    "y = prediction_df.iloc[:, -1].values "
   ]
  },
  {
   "cell_type": "code",
   "execution_count": 10,
   "metadata": {},
   "outputs": [],
   "source": [
    "X_train, X_test, y_train, y_test = train_test_split(X, y, test_size=0.2, random_state=0,shuffle=True)"
   ]
  },
  {
   "cell_type": "code",
   "execution_count": 11,
   "metadata": {},
   "outputs": [
    {
     "name": "stdout",
     "output_type": "stream",
     "text": [
      "Accuracy of Logistic Regression Classifier: 0.6159\n",
      "Accuracy of Decision Tree Classifier: 0.6159\n",
      "Accuracy of SVM Classifier: 0.6291\n",
      "Accuracy of Random Forest Classifier: 0.5828\n"
     ]
    }
   ],
   "source": [
    "from sklearn.linear_model import LogisticRegression\n",
    "from sklearn.tree import DecisionTreeClassifier\n",
    "from sklearn.svm import SVC\n",
    "from sklearn.ensemble import RandomForestClassifier\n",
    "\n",
    "logreg = LogisticRegression(max_iter=5000)\n",
    "logreg.fit(X_train, y_train)\n",
    "y_pred = logreg.predict(X_test)\n",
    "print('Accuracy of Logistic Regression Classifier: {:.4f}'.format(logreg.score(X_test, y_test)))\n",
    "\n",
    "#Decision Tree Classifier\n",
    "dtree=DecisionTreeClassifier()\n",
    "dtree.fit(X_train,y_train)\n",
    "y_pred = dtree.predict(X_test)\n",
    "print('Accuracy of Decision Tree Classifier: {:.4f}'.format(dtree.score(X_test, y_test)))\n",
    "\n",
    "#SVM\n",
    "svm=SVC()\n",
    "svm.fit(X_train,y_train)\n",
    "y_pred = svm.predict(X_test)\n",
    "print('Accuracy of SVM Classifier: {:.4f}'.format(svm.score(X_test, y_test)))\n",
    "\n",
    "#Random Forest Classifier\n",
    "randomForest= RandomForestClassifier(n_estimators=100)\n",
    "randomForest.fit(X_train,y_train)\n",
    "y_pred = randomForest.predict(X_test)\n",
    "print('Accuracy of Random Forest Classifier: {:.4f}'.format(randomForest.score(X_test, y_test)))\n"
   ]
  },
  {
   "cell_type": "code",
   "execution_count": 68,
   "metadata": {},
   "outputs": [
    {
     "data": {
      "text/plain": [
       "{0: 'ACA-VDCA Stadium',\n",
       " 1: 'Barabati Stadium',\n",
       " 2: 'Brabourne Stadium',\n",
       " 3: 'Buffalo Park',\n",
       " 4: 'De Beers Diamond Oval',\n",
       " 5: 'Dr DY Patil Sports Academy',\n",
       " 6: 'Dr. Y.S. Rajasekhara Reddy ACA-VDCA Cricket Stadium',\n",
       " 7: 'Dubai International Cricket Stadium',\n",
       " 8: 'Eden Gardens',\n",
       " 9: 'Feroz Shah Kotla',\n",
       " 10: 'Feroz Shah Kotla Ground',\n",
       " 11: 'Green Park',\n",
       " 12: 'Himachal Pradesh Cricket Association Stadium',\n",
       " 13: 'Holkar Cricket Stadium',\n",
       " 14: 'IS Bindra Stadium',\n",
       " 15: 'JSCA International Stadium Complex',\n",
       " 16: 'Kingsmead',\n",
       " 17: 'M Chinnaswamy Stadium',\n",
       " 18: 'M. A. Chidambaram Stadium',\n",
       " 19: 'M. Chinnaswamy Stadium',\n",
       " 20: 'MA Chidambaram Stadium, Chepauk',\n",
       " 21: 'Maharashtra Cricket Association Stadium',\n",
       " 22: 'Nehru Stadium',\n",
       " 23: 'New Wanderers Stadium',\n",
       " 24: 'Newlands',\n",
       " 25: 'OUTsurance Oval',\n",
       " 26: 'Punjab Cricket Association IS Bindra Stadium, Mohali',\n",
       " 27: 'Punjab Cricket Association Stadium, Mohali',\n",
       " 28: 'Rajiv Gandhi International Stadium, Uppal',\n",
       " 29: 'Rajiv Gandhi Intl. Cricket Stadium',\n",
       " 30: 'Sardar Patel Stadium, Motera',\n",
       " 31: 'Saurashtra Cricket Association Stadium',\n",
       " 32: 'Sawai Mansingh Stadium',\n",
       " 33: 'Shaheed Veer Narayan Singh International Stadium',\n",
       " 34: 'Sharjah Cricket Stadium',\n",
       " 35: 'Sheikh Zayed Stadium',\n",
       " 36: \"St George's Park\",\n",
       " 37: 'Subrata Roy Sahara Stadium',\n",
       " 38: 'SuperSport Park',\n",
       " 39: 'Vidarbha Cricket Association Stadium, Jamtha',\n",
       " 40: 'Wankhede Stadium'}"
      ]
     },
     "execution_count": 68,
     "metadata": {},
     "output_type": "execute_result"
    }
   ],
   "source": [
    "le_name_mapping = dict(zip(team1_encoder.transform(team1_encoder.classes_), team1_encoder.classes_))\n",
    "le_name_mapping"
   ]
  },
  {
   "cell_type": "code",
   "execution_count": 71,
   "metadata": {},
   "outputs": [],
   "source": [
    "def getLabel(team1_val, team2_val, toss_val, venue_val):\n",
    "    le_name_mapping = dict(zip(team1_encoder.transform(team1_encoder.classes_), team1_encoder.classes_))\n",
    "    key_list = list(le_name_mapping.keys())\n",
    "    val_list = list(le_name_mapping.values())\n",
    "    position = val_list.index(team1_val)\n",
    "    a = key_list[position]\n",
    "    le_name_mapping = dict(zip(team2_encoder.transform(team2_encoder.classes_), team2_encoder.classes_))\n",
    "    key_list = list(le_name_mapping.keys())\n",
    "    val_list = list(le_name_mapping.values())\n",
    "    position = val_list.index(team2_val)\n",
    "    b = key_list[position]\n",
    "    if toss_val == 'Win':\n",
    "        c = 1\n",
    "    else:\n",
    "        c = 0\n",
    "    le_name_mapping = dict(zip(venue_encoder.transform(venue_encoder.classes_), venue_encoder.classes_))\n",
    "    key_list = list(le_name_mapping.keys())\n",
    "    val_list = list(le_name_mapping.values())\n",
    "    position = val_list.index(venue_val) \n",
    "    d = key_list[position]\n",
    "    return [a,b,c,d]\n",
    "    \n",
    "def outputLabel(n):\n",
    "    if n == 0:\n",
    "        return \"will win :)\"\n",
    "    elif n == 1:\n",
    "        return \"will lose :(\""
   ]
  },
  {
   "cell_type": "code",
   "execution_count": 72,
   "metadata": {},
   "outputs": [
    {
     "name": "stdout",
     "output_type": "stream",
     "text": [
      "Chennai Super Kings will lose :(\n"
     ]
    }
   ],
   "source": [
    "team1_val = 'Chennai Super Kings'\n",
    "team2_val = 'Mumbai Indians'\n",
    "toss_val = 'Win'\n",
    "venue_val = 'Dubai International Cricket Stadium'\n",
    "val = getLabel(team1_val, team2_val, toss_val, venue_val)\n",
    "pred = dtree.predict([val])\n",
    "print(team1_val + \" \" + outputLabel(pred))"
   ]
  },
  {
   "cell_type": "code",
   "execution_count": null,
   "metadata": {},
   "outputs": [],
   "source": []
  }
 ],
 "metadata": {
  "kernelspec": {
   "display_name": "Python 3",
   "language": "python",
   "name": "python3"
  },
  "language_info": {
   "codemirror_mode": {
    "name": "ipython",
    "version": 3
   },
   "file_extension": ".py",
   "mimetype": "text/x-python",
   "name": "python",
   "nbconvert_exporter": "python",
   "pygments_lexer": "ipython3",
   "version": "3.8.5"
  }
 },
 "nbformat": 4,
 "nbformat_minor": 4
}
